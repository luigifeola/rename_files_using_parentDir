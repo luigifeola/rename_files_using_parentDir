{
 "cells": [
  {
   "cell_type": "code",
   "execution_count": 1,
   "metadata": {},
   "outputs": [
    {
     "data": {
      "text/html": [
       "<style>.container { width:85% !important; }</style>"
      ],
      "text/plain": [
       "<IPython.core.display.HTML object>"
      ]
     },
     "metadata": {},
     "output_type": "display_data"
    }
   ],
   "source": [
    "from IPython.core.display import display, HTML\n",
    "display(HTML(\"<style>.container { width:85% !important; }</style>\"))"
   ]
  },
  {
   "cell_type": "code",
   "execution_count": 4,
   "metadata": {},
   "outputs": [],
   "source": [
    "import shutil\n",
    "import os\n",
    "import sys\n",
    "\n",
    "dr = os.path.join(os.getcwd(), 'results')\n",
    "\n",
    "for root, dirs, files in os.walk(dr):\n",
    "    for file in files:\n",
    "        if file.endswith(\".txt\"):\n",
    "            # RENAME FILES\n",
    "            spl = root.split(\"/\"); newname = spl[-1]+'_'+file; sup = (\"/\").join(spl[:-1])\n",
    "            shutil.move(root+\"/\"+file, sup+\"/\"+newname)\n",
    "            # REMOVE PARENT DIR\n",
    "\n",
    "            # checking whether the folder is empty or not\n",
    "            if len(os.listdir(root)) == 0:\n",
    "                # removing the file using the os.remove() method\n",
    "                os.rmdir(root)\n"
   ]
  }
 ],
 "metadata": {
  "kernelspec": {
   "display_name": "Python 3",
   "language": "python",
   "name": "python3"
  },
  "language_info": {
   "codemirror_mode": {
    "name": "ipython",
    "version": 3
   },
   "file_extension": ".py",
   "mimetype": "text/x-python",
   "name": "python",
   "nbconvert_exporter": "python",
   "pygments_lexer": "ipython3",
   "version": "3.6.9"
  }
 },
 "nbformat": 4,
 "nbformat_minor": 4
}
